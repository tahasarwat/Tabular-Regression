{
 "cells": [
  {
   "cell_type": "markdown",
   "id": "8ad622f5",
   "metadata": {},
   "source": [
    " # <u> Feed Forward Neural Network Approach </u>"
   ]
  },
  {
   "cell_type": "markdown",
   "id": "c042d4c5",
   "metadata": {},
   "source": [
    "# Problem\n",
    "Predicting the sales price of bulldozers in the future given sales and model data of previously sold bulldozers.\n",
    "\n",
    "[Blue Book for Bulldozers](https://www.kaggle.com/competitions/bluebook-for-bulldozers/overview)"
   ]
  },
  {
   "cell_type": "markdown",
   "id": "dbe27298",
   "metadata": {},
   "source": [
    "# Data\n",
    "\n",
    " <u>The data for this competition is split into three parts</u>\n",
    "*   Train.csv is the training set, which contains data through the end of 2011.\n",
    "*   Valid.csv is the validation set, which contains data from January 1, 2012 - April 30, 2012.\n",
    "*   Test.csv contains data from May 1, 2012 - November 2012.\n",
    "* ValidSolution.csv contains SalePrice for Valid.csv\n",
    "\n",
    "<u>The key fields in train.csv are:</u>\n",
    "\n",
    "SalesID: the unique identifier of the sale\n",
    "MachineID: the unique identifier of a machine\n",
    "saleprice: the price  machine sold for at auction \n",
    "saledate: the date of the sale\n",
    "\n"
   ]
  },
  {
   "cell_type": "markdown",
   "id": "1937a50c",
   "metadata": {},
   "source": [
    "# Visualizing Data"
   ]
  },
  {
   "cell_type": "code",
   "execution_count": 2,
   "id": "51b31447",
   "metadata": {},
   "outputs": [
    {
     "name": "stdout",
     "output_type": "stream",
     "text": [
      "WARNING:tensorflow:From C:\\Users\\aser\\anaconda3\\lib\\site-packages\\keras\\src\\losses.py:2976: The name tf.losses.sparse_softmax_cross_entropy is deprecated. Please use tf.compat.v1.losses.sparse_softmax_cross_entropy instead.\n",
      "\n",
      "WARNING:tensorflow:From C:\\Users\\aser\\AppData\\Local\\Temp\\ipykernel_414320\\1594220986.py:9: The name tf.logging.set_verbosity is deprecated. Please use tf.compat.v1.logging.set_verbosity instead.\n",
      "\n"
     ]
    }
   ],
   "source": [
    "import numpy as np\n",
    "import pandas as pd\n",
    "import matplotlib.pyplot as plt\n",
    "import seaborn as sns\n",
    "from scipy import stats\n",
    "from sklearn.metrics import mean_squared_error, mean_squared_log_error\n",
    "from sklearn.preprocessing import StandardScaler\n",
    "import tensorflow as tf\n",
    "tf.compat.v1.logging.set_verbosity(tf.compat.v1.logging.ERROR)"
   ]
  },
  {
   "cell_type": "code",
   "execution_count": 3,
   "id": "6adca906",
   "metadata": {},
   "outputs": [],
   "source": [
    "train_csv = pd.read_csv(r\"C:\\Users\\aser\\Desktop\\LUMS Fall 2023-24\\Machine Learning (New)\\Project\\Train.csv\", low_memory=False)"
   ]
  },
  {
   "cell_type": "code",
   "execution_count": 4,
   "id": "93541b23",
   "metadata": {},
   "outputs": [
    {
     "name": "stdout",
     "output_type": "stream",
     "text": [
      "The Data: \n"
     ]
    },
    {
     "data": {
      "text/html": [
       "<div>\n",
       "<style scoped>\n",
       "    .dataframe tbody tr th:only-of-type {\n",
       "        vertical-align: middle;\n",
       "    }\n",
       "\n",
       "    .dataframe tbody tr th {\n",
       "        vertical-align: top;\n",
       "    }\n",
       "\n",
       "    .dataframe thead th {\n",
       "        text-align: right;\n",
       "    }\n",
       "</style>\n",
       "<table border=\"1\" class=\"dataframe\">\n",
       "  <thead>\n",
       "    <tr style=\"text-align: right;\">\n",
       "      <th></th>\n",
       "      <th>SalesID</th>\n",
       "      <th>SalePrice</th>\n",
       "      <th>MachineID</th>\n",
       "      <th>ModelID</th>\n",
       "      <th>datasource</th>\n",
       "      <th>auctioneerID</th>\n",
       "      <th>YearMade</th>\n",
       "      <th>MachineHoursCurrentMeter</th>\n",
       "      <th>UsageBand</th>\n",
       "      <th>saledate</th>\n",
       "      <th>fiModelDesc</th>\n",
       "      <th>fiBaseModel</th>\n",
       "      <th>fiSecondaryDesc</th>\n",
       "      <th>fiModelSeries</th>\n",
       "      <th>fiModelDescriptor</th>\n",
       "      <th>ProductSize</th>\n",
       "      <th>fiProductClassDesc</th>\n",
       "      <th>state</th>\n",
       "      <th>ProductGroup</th>\n",
       "      <th>ProductGroupDesc</th>\n",
       "      <th>Drive_System</th>\n",
       "      <th>Enclosure</th>\n",
       "      <th>Forks</th>\n",
       "      <th>Pad_Type</th>\n",
       "      <th>Ride_Control</th>\n",
       "      <th>Stick</th>\n",
       "      <th>Transmission</th>\n",
       "      <th>Turbocharged</th>\n",
       "      <th>Blade_Extension</th>\n",
       "      <th>Blade_Width</th>\n",
       "      <th>Enclosure_Type</th>\n",
       "      <th>Engine_Horsepower</th>\n",
       "      <th>Hydraulics</th>\n",
       "      <th>Pushblock</th>\n",
       "      <th>Ripper</th>\n",
       "      <th>Scarifier</th>\n",
       "      <th>Tip_Control</th>\n",
       "      <th>Tire_Size</th>\n",
       "      <th>Coupler</th>\n",
       "      <th>Coupler_System</th>\n",
       "      <th>Grouser_Tracks</th>\n",
       "      <th>Hydraulics_Flow</th>\n",
       "      <th>Track_Type</th>\n",
       "      <th>Undercarriage_Pad_Width</th>\n",
       "      <th>Stick_Length</th>\n",
       "      <th>Thumb</th>\n",
       "      <th>Pattern_Changer</th>\n",
       "      <th>Grouser_Type</th>\n",
       "      <th>Backhoe_Mounting</th>\n",
       "      <th>Blade_Type</th>\n",
       "      <th>Travel_Controls</th>\n",
       "      <th>Differential_Type</th>\n",
       "      <th>Steering_Controls</th>\n",
       "    </tr>\n",
       "  </thead>\n",
       "  <tbody>\n",
       "    <tr>\n",
       "      <th>0</th>\n",
       "      <td>1139246</td>\n",
       "      <td>66000</td>\n",
       "      <td>999089</td>\n",
       "      <td>3157</td>\n",
       "      <td>121</td>\n",
       "      <td>3.0</td>\n",
       "      <td>2004</td>\n",
       "      <td>68.0</td>\n",
       "      <td>Low</td>\n",
       "      <td>11/16/2006 0:00</td>\n",
       "      <td>521D</td>\n",
       "      <td>521</td>\n",
       "      <td>D</td>\n",
       "      <td>NaN</td>\n",
       "      <td>NaN</td>\n",
       "      <td>NaN</td>\n",
       "      <td>Wheel Loader - 110.0 to 120.0 Horsepower</td>\n",
       "      <td>Alabama</td>\n",
       "      <td>WL</td>\n",
       "      <td>Wheel Loader</td>\n",
       "      <td>NaN</td>\n",
       "      <td>EROPS w AC</td>\n",
       "      <td>None or Unspecified</td>\n",
       "      <td>NaN</td>\n",
       "      <td>None or Unspecified</td>\n",
       "      <td>NaN</td>\n",
       "      <td>NaN</td>\n",
       "      <td>NaN</td>\n",
       "      <td>NaN</td>\n",
       "      <td>NaN</td>\n",
       "      <td>NaN</td>\n",
       "      <td>NaN</td>\n",
       "      <td>2 Valve</td>\n",
       "      <td>NaN</td>\n",
       "      <td>NaN</td>\n",
       "      <td>NaN</td>\n",
       "      <td>NaN</td>\n",
       "      <td>None or Unspecified</td>\n",
       "      <td>None or Unspecified</td>\n",
       "      <td>NaN</td>\n",
       "      <td>NaN</td>\n",
       "      <td>NaN</td>\n",
       "      <td>NaN</td>\n",
       "      <td>NaN</td>\n",
       "      <td>NaN</td>\n",
       "      <td>NaN</td>\n",
       "      <td>NaN</td>\n",
       "      <td>NaN</td>\n",
       "      <td>NaN</td>\n",
       "      <td>NaN</td>\n",
       "      <td>NaN</td>\n",
       "      <td>Standard</td>\n",
       "      <td>Conventional</td>\n",
       "    </tr>\n",
       "    <tr>\n",
       "      <th>1</th>\n",
       "      <td>1139248</td>\n",
       "      <td>57000</td>\n",
       "      <td>117657</td>\n",
       "      <td>77</td>\n",
       "      <td>121</td>\n",
       "      <td>3.0</td>\n",
       "      <td>1996</td>\n",
       "      <td>4640.0</td>\n",
       "      <td>Low</td>\n",
       "      <td>3/26/2004 0:00</td>\n",
       "      <td>950FII</td>\n",
       "      <td>950</td>\n",
       "      <td>F</td>\n",
       "      <td>II</td>\n",
       "      <td>NaN</td>\n",
       "      <td>Medium</td>\n",
       "      <td>Wheel Loader - 150.0 to 175.0 Horsepower</td>\n",
       "      <td>North Carolina</td>\n",
       "      <td>WL</td>\n",
       "      <td>Wheel Loader</td>\n",
       "      <td>NaN</td>\n",
       "      <td>EROPS w AC</td>\n",
       "      <td>None or Unspecified</td>\n",
       "      <td>NaN</td>\n",
       "      <td>None or Unspecified</td>\n",
       "      <td>NaN</td>\n",
       "      <td>NaN</td>\n",
       "      <td>NaN</td>\n",
       "      <td>NaN</td>\n",
       "      <td>NaN</td>\n",
       "      <td>NaN</td>\n",
       "      <td>NaN</td>\n",
       "      <td>2 Valve</td>\n",
       "      <td>NaN</td>\n",
       "      <td>NaN</td>\n",
       "      <td>NaN</td>\n",
       "      <td>NaN</td>\n",
       "      <td>23.5</td>\n",
       "      <td>None or Unspecified</td>\n",
       "      <td>NaN</td>\n",
       "      <td>NaN</td>\n",
       "      <td>NaN</td>\n",
       "      <td>NaN</td>\n",
       "      <td>NaN</td>\n",
       "      <td>NaN</td>\n",
       "      <td>NaN</td>\n",
       "      <td>NaN</td>\n",
       "      <td>NaN</td>\n",
       "      <td>NaN</td>\n",
       "      <td>NaN</td>\n",
       "      <td>NaN</td>\n",
       "      <td>Standard</td>\n",
       "      <td>Conventional</td>\n",
       "    </tr>\n",
       "    <tr>\n",
       "      <th>2</th>\n",
       "      <td>1139249</td>\n",
       "      <td>10000</td>\n",
       "      <td>434808</td>\n",
       "      <td>7009</td>\n",
       "      <td>121</td>\n",
       "      <td>3.0</td>\n",
       "      <td>2001</td>\n",
       "      <td>2838.0</td>\n",
       "      <td>High</td>\n",
       "      <td>2/26/2004 0:00</td>\n",
       "      <td>226</td>\n",
       "      <td>226</td>\n",
       "      <td>NaN</td>\n",
       "      <td>NaN</td>\n",
       "      <td>NaN</td>\n",
       "      <td>NaN</td>\n",
       "      <td>Skid Steer Loader - 1351.0 to 1601.0 Lb Operat...</td>\n",
       "      <td>New York</td>\n",
       "      <td>SSL</td>\n",
       "      <td>Skid Steer Loaders</td>\n",
       "      <td>NaN</td>\n",
       "      <td>OROPS</td>\n",
       "      <td>None or Unspecified</td>\n",
       "      <td>NaN</td>\n",
       "      <td>NaN</td>\n",
       "      <td>NaN</td>\n",
       "      <td>NaN</td>\n",
       "      <td>NaN</td>\n",
       "      <td>NaN</td>\n",
       "      <td>NaN</td>\n",
       "      <td>NaN</td>\n",
       "      <td>NaN</td>\n",
       "      <td>Auxiliary</td>\n",
       "      <td>NaN</td>\n",
       "      <td>NaN</td>\n",
       "      <td>NaN</td>\n",
       "      <td>NaN</td>\n",
       "      <td>NaN</td>\n",
       "      <td>None or Unspecified</td>\n",
       "      <td>None or Unspecified</td>\n",
       "      <td>None or Unspecified</td>\n",
       "      <td>Standard</td>\n",
       "      <td>NaN</td>\n",
       "      <td>NaN</td>\n",
       "      <td>NaN</td>\n",
       "      <td>NaN</td>\n",
       "      <td>NaN</td>\n",
       "      <td>NaN</td>\n",
       "      <td>NaN</td>\n",
       "      <td>NaN</td>\n",
       "      <td>NaN</td>\n",
       "      <td>NaN</td>\n",
       "      <td>NaN</td>\n",
       "    </tr>\n",
       "    <tr>\n",
       "      <th>3</th>\n",
       "      <td>1139251</td>\n",
       "      <td>38500</td>\n",
       "      <td>1026470</td>\n",
       "      <td>332</td>\n",
       "      <td>121</td>\n",
       "      <td>3.0</td>\n",
       "      <td>2001</td>\n",
       "      <td>3486.0</td>\n",
       "      <td>High</td>\n",
       "      <td>5/19/2011 0:00</td>\n",
       "      <td>PC120-6E</td>\n",
       "      <td>PC120</td>\n",
       "      <td>NaN</td>\n",
       "      <td>-6E</td>\n",
       "      <td>NaN</td>\n",
       "      <td>Small</td>\n",
       "      <td>Hydraulic Excavator, Track - 12.0 to 14.0 Metr...</td>\n",
       "      <td>Texas</td>\n",
       "      <td>TEX</td>\n",
       "      <td>Track Excavators</td>\n",
       "      <td>NaN</td>\n",
       "      <td>EROPS w AC</td>\n",
       "      <td>NaN</td>\n",
       "      <td>NaN</td>\n",
       "      <td>NaN</td>\n",
       "      <td>NaN</td>\n",
       "      <td>NaN</td>\n",
       "      <td>NaN</td>\n",
       "      <td>NaN</td>\n",
       "      <td>NaN</td>\n",
       "      <td>NaN</td>\n",
       "      <td>NaN</td>\n",
       "      <td>2 Valve</td>\n",
       "      <td>NaN</td>\n",
       "      <td>NaN</td>\n",
       "      <td>NaN</td>\n",
       "      <td>NaN</td>\n",
       "      <td>NaN</td>\n",
       "      <td>None or Unspecified</td>\n",
       "      <td>NaN</td>\n",
       "      <td>NaN</td>\n",
       "      <td>NaN</td>\n",
       "      <td>NaN</td>\n",
       "      <td>NaN</td>\n",
       "      <td>NaN</td>\n",
       "      <td>NaN</td>\n",
       "      <td>NaN</td>\n",
       "      <td>NaN</td>\n",
       "      <td>NaN</td>\n",
       "      <td>NaN</td>\n",
       "      <td>NaN</td>\n",
       "      <td>NaN</td>\n",
       "      <td>NaN</td>\n",
       "    </tr>\n",
       "    <tr>\n",
       "      <th>4</th>\n",
       "      <td>1139253</td>\n",
       "      <td>11000</td>\n",
       "      <td>1057373</td>\n",
       "      <td>17311</td>\n",
       "      <td>121</td>\n",
       "      <td>3.0</td>\n",
       "      <td>2007</td>\n",
       "      <td>722.0</td>\n",
       "      <td>Medium</td>\n",
       "      <td>7/23/2009 0:00</td>\n",
       "      <td>S175</td>\n",
       "      <td>S175</td>\n",
       "      <td>NaN</td>\n",
       "      <td>NaN</td>\n",
       "      <td>NaN</td>\n",
       "      <td>NaN</td>\n",
       "      <td>Skid Steer Loader - 1601.0 to 1751.0 Lb Operat...</td>\n",
       "      <td>New York</td>\n",
       "      <td>SSL</td>\n",
       "      <td>Skid Steer Loaders</td>\n",
       "      <td>NaN</td>\n",
       "      <td>EROPS</td>\n",
       "      <td>None or Unspecified</td>\n",
       "      <td>NaN</td>\n",
       "      <td>NaN</td>\n",
       "      <td>NaN</td>\n",
       "      <td>NaN</td>\n",
       "      <td>NaN</td>\n",
       "      <td>NaN</td>\n",
       "      <td>NaN</td>\n",
       "      <td>NaN</td>\n",
       "      <td>NaN</td>\n",
       "      <td>Auxiliary</td>\n",
       "      <td>NaN</td>\n",
       "      <td>NaN</td>\n",
       "      <td>NaN</td>\n",
       "      <td>NaN</td>\n",
       "      <td>NaN</td>\n",
       "      <td>None or Unspecified</td>\n",
       "      <td>None or Unspecified</td>\n",
       "      <td>None or Unspecified</td>\n",
       "      <td>Standard</td>\n",
       "      <td>NaN</td>\n",
       "      <td>NaN</td>\n",
       "      <td>NaN</td>\n",
       "      <td>NaN</td>\n",
       "      <td>NaN</td>\n",
       "      <td>NaN</td>\n",
       "      <td>NaN</td>\n",
       "      <td>NaN</td>\n",
       "      <td>NaN</td>\n",
       "      <td>NaN</td>\n",
       "      <td>NaN</td>\n",
       "    </tr>\n",
       "  </tbody>\n",
       "</table>\n",
       "</div>"
      ],
      "text/plain": [
       "   SalesID  SalePrice  MachineID  ModelID  datasource  auctioneerID  YearMade  \\\n",
       "0  1139246      66000     999089     3157         121           3.0      2004   \n",
       "1  1139248      57000     117657       77         121           3.0      1996   \n",
       "2  1139249      10000     434808     7009         121           3.0      2001   \n",
       "3  1139251      38500    1026470      332         121           3.0      2001   \n",
       "4  1139253      11000    1057373    17311         121           3.0      2007   \n",
       "\n",
       "   MachineHoursCurrentMeter UsageBand         saledate fiModelDesc  \\\n",
       "0                      68.0       Low  11/16/2006 0:00        521D   \n",
       "1                    4640.0       Low   3/26/2004 0:00      950FII   \n",
       "2                    2838.0      High   2/26/2004 0:00         226   \n",
       "3                    3486.0      High   5/19/2011 0:00    PC120-6E   \n",
       "4                     722.0    Medium   7/23/2009 0:00        S175   \n",
       "\n",
       "  fiBaseModel fiSecondaryDesc fiModelSeries fiModelDescriptor ProductSize  \\\n",
       "0         521               D           NaN               NaN         NaN   \n",
       "1         950               F            II               NaN      Medium   \n",
       "2         226             NaN           NaN               NaN         NaN   \n",
       "3       PC120             NaN           -6E               NaN       Small   \n",
       "4        S175             NaN           NaN               NaN         NaN   \n",
       "\n",
       "                                  fiProductClassDesc           state  \\\n",
       "0           Wheel Loader - 110.0 to 120.0 Horsepower         Alabama   \n",
       "1           Wheel Loader - 150.0 to 175.0 Horsepower  North Carolina   \n",
       "2  Skid Steer Loader - 1351.0 to 1601.0 Lb Operat...        New York   \n",
       "3  Hydraulic Excavator, Track - 12.0 to 14.0 Metr...           Texas   \n",
       "4  Skid Steer Loader - 1601.0 to 1751.0 Lb Operat...        New York   \n",
       "\n",
       "  ProductGroup    ProductGroupDesc Drive_System   Enclosure  \\\n",
       "0           WL        Wheel Loader          NaN  EROPS w AC   \n",
       "1           WL        Wheel Loader          NaN  EROPS w AC   \n",
       "2          SSL  Skid Steer Loaders          NaN       OROPS   \n",
       "3          TEX    Track Excavators          NaN  EROPS w AC   \n",
       "4          SSL  Skid Steer Loaders          NaN       EROPS   \n",
       "\n",
       "                 Forks Pad_Type         Ride_Control Stick Transmission  \\\n",
       "0  None or Unspecified      NaN  None or Unspecified   NaN          NaN   \n",
       "1  None or Unspecified      NaN  None or Unspecified   NaN          NaN   \n",
       "2  None or Unspecified      NaN                  NaN   NaN          NaN   \n",
       "3                  NaN      NaN                  NaN   NaN          NaN   \n",
       "4  None or Unspecified      NaN                  NaN   NaN          NaN   \n",
       "\n",
       "  Turbocharged Blade_Extension Blade_Width Enclosure_Type Engine_Horsepower  \\\n",
       "0          NaN             NaN         NaN            NaN               NaN   \n",
       "1          NaN             NaN         NaN            NaN               NaN   \n",
       "2          NaN             NaN         NaN            NaN               NaN   \n",
       "3          NaN             NaN         NaN            NaN               NaN   \n",
       "4          NaN             NaN         NaN            NaN               NaN   \n",
       "\n",
       "  Hydraulics Pushblock Ripper Scarifier Tip_Control            Tire_Size  \\\n",
       "0    2 Valve       NaN    NaN       NaN         NaN  None or Unspecified   \n",
       "1    2 Valve       NaN    NaN       NaN         NaN                 23.5   \n",
       "2  Auxiliary       NaN    NaN       NaN         NaN                  NaN   \n",
       "3    2 Valve       NaN    NaN       NaN         NaN                  NaN   \n",
       "4  Auxiliary       NaN    NaN       NaN         NaN                  NaN   \n",
       "\n",
       "               Coupler       Coupler_System       Grouser_Tracks  \\\n",
       "0  None or Unspecified                  NaN                  NaN   \n",
       "1  None or Unspecified                  NaN                  NaN   \n",
       "2  None or Unspecified  None or Unspecified  None or Unspecified   \n",
       "3  None or Unspecified                  NaN                  NaN   \n",
       "4  None or Unspecified  None or Unspecified  None or Unspecified   \n",
       "\n",
       "  Hydraulics_Flow Track_Type Undercarriage_Pad_Width Stick_Length Thumb  \\\n",
       "0             NaN        NaN                     NaN          NaN   NaN   \n",
       "1             NaN        NaN                     NaN          NaN   NaN   \n",
       "2        Standard        NaN                     NaN          NaN   NaN   \n",
       "3             NaN        NaN                     NaN          NaN   NaN   \n",
       "4        Standard        NaN                     NaN          NaN   NaN   \n",
       "\n",
       "  Pattern_Changer Grouser_Type Backhoe_Mounting Blade_Type Travel_Controls  \\\n",
       "0             NaN          NaN              NaN        NaN             NaN   \n",
       "1             NaN          NaN              NaN        NaN             NaN   \n",
       "2             NaN          NaN              NaN        NaN             NaN   \n",
       "3             NaN          NaN              NaN        NaN             NaN   \n",
       "4             NaN          NaN              NaN        NaN             NaN   \n",
       "\n",
       "  Differential_Type Steering_Controls  \n",
       "0          Standard      Conventional  \n",
       "1          Standard      Conventional  \n",
       "2               NaN               NaN  \n",
       "3               NaN               NaN  \n",
       "4               NaN               NaN  "
      ]
     },
     "execution_count": 4,
     "metadata": {},
     "output_type": "execute_result"
    }
   ],
   "source": [
    "pd.set_option('display.max_columns', None)\n",
    "print(\"The Data: \")\n",
    "train_csv.head()"
   ]
  },
  {
   "cell_type": "code",
   "execution_count": 5,
   "id": "3409679f",
   "metadata": {},
   "outputs": [
    {
     "name": "stdout",
     "output_type": "stream",
     "text": [
      "Statistics for numeric data in the training set: \n"
     ]
    },
    {
     "data": {
      "text/html": [
       "<div>\n",
       "<style scoped>\n",
       "    .dataframe tbody tr th:only-of-type {\n",
       "        vertical-align: middle;\n",
       "    }\n",
       "\n",
       "    .dataframe tbody tr th {\n",
       "        vertical-align: top;\n",
       "    }\n",
       "\n",
       "    .dataframe thead th {\n",
       "        text-align: right;\n",
       "    }\n",
       "</style>\n",
       "<table border=\"1\" class=\"dataframe\">\n",
       "  <thead>\n",
       "    <tr style=\"text-align: right;\">\n",
       "      <th></th>\n",
       "      <th>SalesID</th>\n",
       "      <th>SalePrice</th>\n",
       "      <th>MachineID</th>\n",
       "      <th>ModelID</th>\n",
       "      <th>datasource</th>\n",
       "      <th>auctioneerID</th>\n",
       "      <th>YearMade</th>\n",
       "      <th>MachineHoursCurrentMeter</th>\n",
       "    </tr>\n",
       "  </thead>\n",
       "  <tbody>\n",
       "    <tr>\n",
       "      <th>count</th>\n",
       "      <td>4.011250e+05</td>\n",
       "      <td>401125.000000</td>\n",
       "      <td>4.011250e+05</td>\n",
       "      <td>401125.000000</td>\n",
       "      <td>401125.000000</td>\n",
       "      <td>380989.000000</td>\n",
       "      <td>401125.000000</td>\n",
       "      <td>1.427650e+05</td>\n",
       "    </tr>\n",
       "    <tr>\n",
       "      <th>mean</th>\n",
       "      <td>1.919713e+06</td>\n",
       "      <td>31099.712848</td>\n",
       "      <td>1.217903e+06</td>\n",
       "      <td>6889.702980</td>\n",
       "      <td>134.665810</td>\n",
       "      <td>6.556040</td>\n",
       "      <td>1899.156901</td>\n",
       "      <td>3.457955e+03</td>\n",
       "    </tr>\n",
       "    <tr>\n",
       "      <th>std</th>\n",
       "      <td>9.090215e+05</td>\n",
       "      <td>23036.898502</td>\n",
       "      <td>4.409920e+05</td>\n",
       "      <td>6221.777842</td>\n",
       "      <td>8.962237</td>\n",
       "      <td>16.976779</td>\n",
       "      <td>291.797469</td>\n",
       "      <td>2.759026e+04</td>\n",
       "    </tr>\n",
       "    <tr>\n",
       "      <th>min</th>\n",
       "      <td>1.139246e+06</td>\n",
       "      <td>4750.000000</td>\n",
       "      <td>0.000000e+00</td>\n",
       "      <td>28.000000</td>\n",
       "      <td>121.000000</td>\n",
       "      <td>0.000000</td>\n",
       "      <td>1000.000000</td>\n",
       "      <td>0.000000e+00</td>\n",
       "    </tr>\n",
       "    <tr>\n",
       "      <th>25%</th>\n",
       "      <td>1.418371e+06</td>\n",
       "      <td>14500.000000</td>\n",
       "      <td>1.088697e+06</td>\n",
       "      <td>3259.000000</td>\n",
       "      <td>132.000000</td>\n",
       "      <td>1.000000</td>\n",
       "      <td>1985.000000</td>\n",
       "      <td>0.000000e+00</td>\n",
       "    </tr>\n",
       "    <tr>\n",
       "      <th>50%</th>\n",
       "      <td>1.639422e+06</td>\n",
       "      <td>24000.000000</td>\n",
       "      <td>1.279490e+06</td>\n",
       "      <td>4604.000000</td>\n",
       "      <td>132.000000</td>\n",
       "      <td>2.000000</td>\n",
       "      <td>1995.000000</td>\n",
       "      <td>0.000000e+00</td>\n",
       "    </tr>\n",
       "    <tr>\n",
       "      <th>75%</th>\n",
       "      <td>2.242707e+06</td>\n",
       "      <td>40000.000000</td>\n",
       "      <td>1.468067e+06</td>\n",
       "      <td>8724.000000</td>\n",
       "      <td>136.000000</td>\n",
       "      <td>4.000000</td>\n",
       "      <td>2000.000000</td>\n",
       "      <td>3.025000e+03</td>\n",
       "    </tr>\n",
       "    <tr>\n",
       "      <th>max</th>\n",
       "      <td>6.333342e+06</td>\n",
       "      <td>142000.000000</td>\n",
       "      <td>2.486330e+06</td>\n",
       "      <td>37198.000000</td>\n",
       "      <td>172.000000</td>\n",
       "      <td>99.000000</td>\n",
       "      <td>2013.000000</td>\n",
       "      <td>2.483300e+06</td>\n",
       "    </tr>\n",
       "  </tbody>\n",
       "</table>\n",
       "</div>"
      ],
      "text/plain": [
       "            SalesID      SalePrice     MachineID        ModelID  \\\n",
       "count  4.011250e+05  401125.000000  4.011250e+05  401125.000000   \n",
       "mean   1.919713e+06   31099.712848  1.217903e+06    6889.702980   \n",
       "std    9.090215e+05   23036.898502  4.409920e+05    6221.777842   \n",
       "min    1.139246e+06    4750.000000  0.000000e+00      28.000000   \n",
       "25%    1.418371e+06   14500.000000  1.088697e+06    3259.000000   \n",
       "50%    1.639422e+06   24000.000000  1.279490e+06    4604.000000   \n",
       "75%    2.242707e+06   40000.000000  1.468067e+06    8724.000000   \n",
       "max    6.333342e+06  142000.000000  2.486330e+06   37198.000000   \n",
       "\n",
       "          datasource   auctioneerID       YearMade  MachineHoursCurrentMeter  \n",
       "count  401125.000000  380989.000000  401125.000000              1.427650e+05  \n",
       "mean      134.665810       6.556040    1899.156901              3.457955e+03  \n",
       "std         8.962237      16.976779     291.797469              2.759026e+04  \n",
       "min       121.000000       0.000000    1000.000000              0.000000e+00  \n",
       "25%       132.000000       1.000000    1985.000000              0.000000e+00  \n",
       "50%       132.000000       2.000000    1995.000000              0.000000e+00  \n",
       "75%       136.000000       4.000000    2000.000000              3.025000e+03  \n",
       "max       172.000000      99.000000    2013.000000              2.483300e+06  "
      ]
     },
     "execution_count": 5,
     "metadata": {},
     "output_type": "execute_result"
    }
   ],
   "source": [
    "print(\"Statistics for numeric data in the training set: \")\n",
    "train_csv.describe()"
   ]
  },
  {
   "cell_type": "markdown",
   "id": "31288a50",
   "metadata": {},
   "source": [
    "# Exploratory data analysis"
   ]
  },
  {
   "cell_type": "markdown",
   "id": "392dde8b",
   "metadata": {},
   "source": [
    "Dataset shape: (401125, 53),\n",
    "Target attribute: SalePrices\n",
    "- We're going to do a data analysis and figure out the relationships between important variables and columns for this problem."
   ]
  },
  {
   "cell_type": "code",
   "execution_count": 6,
   "id": "c2e1d362",
   "metadata": {},
   "outputs": [],
   "source": [
    "df_eda = train_csv.copy()"
   ]
  },
  {
   "cell_type": "markdown",
   "id": "bb6150b3",
   "metadata": {},
   "source": [
    "Let's First visualize the missing values present in the training data"
   ]
  },
  {
   "cell_type": "code",
   "execution_count": 7,
   "id": "f64bcde2",
   "metadata": {},
   "outputs": [
    {
     "data": {
      "image/png": "[encoded data removed]",
      "text/plain": [
       "<Figure size 2200x1000 with 3 Axes>"
      ]
     },
     "metadata": {},
     "output_type": "display_data"
    }
   ],
   "source": [
    "import missingno as msm\n",
    "plt.figure(figsize=(20, 8))\n",
    "msm.bar(df_eda, fontsize=10, color = 'green', log=False, figsize=(22, 10))\n",
    "plt.title('Missing Values Distribution', fontsize=16)\n",
    "plt.show()"
   ]
  },
  {
   "cell_type": "markdown",
   "id": "d20217cf",
   "metadata": {},
   "source": [
    "The features in which more than 90% values are NaN:"
   ]
  },
  {
   "cell_type": "code",
   "execution_count": 8,
   "id": "90e15204",
   "metadata": {},
   "outputs": [
    {
     "data": {
      "text/plain": [
       "['Blade_Extension',\n",
       " 'Blade_Width',\n",
       " 'Enclosure_Type',\n",
       " 'Engine_Horsepower',\n",
       " 'Pushblock',\n",
       " 'Scarifier',\n",
       " 'Tip_Control']"
      ]
     },
     "execution_count": 8,
     "metadata": {},
     "output_type": "execute_result"
    }
   ],
   "source": [
    "high_nan_features = [feature for feature in df_eda.columns  if (df_eda[feature].isna().sum()/len(df_eda)) > 0.9]\n",
    "high_nan_features"
   ]
  },
  {
   "cell_type": "markdown",
   "id": "dcc08f80",
   "metadata": {},
   "source": [
    "The Categorical Features List:"
   ]
  },
  {
   "cell_type": "code",
   "execution_count": 9,
   "id": "dd79f399",
   "metadata": {},
   "outputs": [
    {
     "name": "stdout",
     "output_type": "stream",
     "text": [
      "UsageBand----------------------------------------- 3\n",
      "fiModelDesc--------------------------------------- 4999\n",
      "fiBaseModel--------------------------------------- 1950\n",
      "fiSecondaryDesc----------------------------------- 175\n",
      "fiModelSeries------------------------------------- 122\n",
      "fiModelDescriptor--------------------------------- 139\n",
      "ProductSize--------------------------------------- 6\n",
      "fiProductClassDesc-------------------------------- 74\n",
      "state--------------------------------------------- 53\n",
      "ProductGroup-------------------------------------- 6\n",
      "ProductGroupDesc---------------------------------- 6\n",
      "Drive_System-------------------------------------- 4\n",
      "Enclosure----------------------------------------- 6\n",
      "Forks--------------------------------------------- 2\n",
      "Pad_Type------------------------------------------ 4\n",
      "Ride_Control-------------------------------------- 3\n",
      "Stick--------------------------------------------- 2\n",
      "Transmission-------------------------------------- 8\n",
      "Turbocharged-------------------------------------- 2\n",
      "Blade_Extension----------------------------------- 2\n",
      "Blade_Width--------------------------------------- 6\n",
      "Enclosure_Type------------------------------------ 3\n",
      "Engine_Horsepower--------------------------------- 2\n",
      "Hydraulics---------------------------------------- 12\n",
      "Pushblock----------------------------------------- 2\n",
      "Ripper-------------------------------------------- 4\n",
      "Scarifier----------------------------------------- 2\n",
      "Tip_Control--------------------------------------- 3\n",
      "Tire_Size----------------------------------------- 17\n",
      "Coupler------------------------------------------- 3\n",
      "Coupler_System------------------------------------ 2\n",
      "Grouser_Tracks------------------------------------ 2\n",
      "Hydraulics_Flow----------------------------------- 3\n",
      "Track_Type---------------------------------------- 2\n",
      "Undercarriage_Pad_Width--------------------------- 19\n",
      "Stick_Length-------------------------------------- 29\n",
      "Thumb--------------------------------------------- 3\n",
      "Pattern_Changer----------------------------------- 3\n",
      "Grouser_Type-------------------------------------- 3\n",
      "Backhoe_Mounting---------------------------------- 2\n",
      "Blade_Type---------------------------------------- 10\n",
      "Travel_Controls----------------------------------- 7\n",
      "Differential_Type--------------------------------- 4\n",
      "Steering_Controls--------------------------------- 5\n"
     ]
    }
   ],
   "source": [
    "categorical_feature_list = [feature for feature in df_eda.columns if feature != 'saledate' and df_eda[feature].dtype == 'O']\n",
    "\n",
    "for feature in categorical_feature_list:\n",
    "  print(f'{feature :-<50} {df_eda[feature].nunique()}')"
   ]
  },
  {
   "cell_type": "markdown",
   "id": "d69734c4",
   "metadata": {},
   "source": [
    "<b>First it's important to look at the distribution of SalePrice </b>"
   ]
  },
  {
   "cell_type": "code",
   "execution_count": 10,
   "id": "7fb4547e",
   "metadata": {},
   "outputs": [
    {
     "data": {
      "text/plain": [
       "<Axes: xlabel='SalePrice', ylabel='Count'>"
      ]
     },
     "execution_count": 10,
     "metadata": {},
     "output_type": "execute_result"
    },
    {
     "data": {
      "image/png": "[encoded data removed]",
      "text/plain": [
       "<Figure size 640x480 with 1 Axes>"
      ]
     },
     "metadata": {},
     "output_type": "display_data"
    }
   ],
   "source": [
    "sns.histplot(df_eda['SalePrice'])"
   ]
  },
  {
   "cell_type": "markdown",
   "id": "18f28537",
   "metadata": {},
   "source": [
    "<u>There are many errors present in this dataset. \n",
    "We also need to deal with missing values and encode the categorical features before inputting the data in our Neural Network.\n",
    "For this, we're going to follow an extensive procedure of data cleaning and processing.</u>"
   ]
  },
  {
   "cell_type": "markdown",
   "id": "4b07b1a3",
   "metadata": {},
   "source": [
    "# <u> Data Cleaning and Preprocessing </u>"
   ]
  },
  {
   "cell_type": "code",
   "execution_count": 11,
   "id": "fecd8381",
   "metadata": {},
   "outputs": [],
   "source": [
    "df = train_csv.copy()"
   ]
  },
  {
   "cell_type": "markdown",
   "id": "d1733b61",
   "metadata": {},
   "source": [
    "The saledate data is in the form mm/dd/yyy. This isn't really useful for us so we will process the dates to a better format."
   ]
  },
  {
   "cell_type": "markdown",
   "id": "10467697",
   "metadata": {},
   "source": [
    "# <b><u> Feature Engineering</u> </b>"
   ]
  },
  {
   "cell_type": "markdown",
   "id": "865f443e",
   "metadata": {},
   "source": [
    "- Categorical variables were converted into numerical representations using Label Encoding. This assigns a unique integer to each category within a feature, enabling the model to learn effectively from non-numerical data.\n",
    "\n",
    "- The initial step involves transforming the 'saledate' feature into separate date-related features such as 'saleYear,' 'saleMonth,' 'saleDay,' 'saleDayOfWeek,' and 'saleDayOfYear.' After this preprocessing, a Label Encoding function, named Ordinal_encoder, is defined to map specific labels in the 'ProductSize' and 'UsageBand' features to numeric values based on a predefined mapping (mask). The 'ProductSize' and 'UsageBand' columns are modified accordingly.\n",
    "\n",
    "- Next, the code addresses missing values through a custom class named FillMissing. This class contains methods for filling missing values in both categorical and numerical columns. The fill_categorical method fills missing values in string-type columns with the string 'missing,' while the fill_numerical method fills missing values in numeric columns with the median of the column.\n",
    "\n",
    "- Lastly, a function named nominal_encoder is defined to convert string-type columns into ordered categorical types using the pandas library. The 'label_list' is created to include all columns in the dataset that have an object (string) data type. The nominal_encoder function then converts these string-type columns into ordered categorical types and assigns numerical codes to the categories."
   ]
  },
  {
   "cell_type": "code",
   "execution_count": 12,
   "id": "00d216d5",
   "metadata": {},
   "outputs": [],
   "source": [
    "df['saledate'] = pd.to_datetime(df['saledate'])\n",
    "\n",
    "def date_preprocessing(dataFrame, feature='saledate'):\n",
    "    dataFrame['saleYear'] = dataFrame[feature].dt.year\n",
    "    dataFrame['saleMonth'] = dataFrame[feature].dt.month\n",
    "    dataFrame['saleDay'] = dataFrame[feature].dt.day\n",
    "    dataFrame['saleDayOfWeek'] = dataFrame[feature].dt.dayofweek\n",
    "    dataFrame['saleDayOfYear'] = dataFrame[feature].dt.dayofyear\n",
    "    dataFrame.drop(feature, inplace=True, axis=1)"
   ]
  },
  {
   "cell_type": "code",
   "execution_count": 13,
   "id": "56019826",
   "metadata": {},
   "outputs": [
    {
     "data": {
      "text/plain": [
       "(401125, 53)"
      ]
     },
     "execution_count": 13,
     "metadata": {},
     "output_type": "execute_result"
    }
   ],
   "source": [
    "df.shape"
   ]
  },
  {
   "cell_type": "code",
   "execution_count": 14,
   "id": "6b93a64f",
   "metadata": {},
   "outputs": [],
   "source": [
    "date_preprocessing(df)"
   ]
  },
  {
   "cell_type": "code",
   "execution_count": 15,
   "id": "bf152824",
   "metadata": {},
   "outputs": [],
   "source": [
    "def Ordinal_encoder (dataFrame, feature_list):\n",
    "  mask = {'Mini': 1, 'Small': 1, 'Medium': 2, 'Large / Medium': 3,  'Large': 3, 'Low': 1, 'High': 3}\n",
    "  for label in feature_list:\n",
    "    dataFrame[label] = dataFrame[label].map(mask)\n",
    "\n",
    "Ordinal_encoder(df, ['ProductSize', 'UsageBand'])"
   ]
  },
  {
   "cell_type": "markdown",
   "id": "3f7f7bd1",
   "metadata": {},
   "source": [
    "# <b><u> Handling Missing Values </u></b>"
   ]
  },
  {
   "cell_type": "markdown",
   "id": "3827c3f8",
   "metadata": {},
   "source": [
    "FillMissing is created to handle missing values in a DataFrame. The class has methods for filling missing values in categorical and numerical columns, and there's another function for nominal encoding of string-type columns. An instance of the class is created, and the methods are applied to fill missing values and encode categorical features in the DataFrame. The code promotes a standardized representation of missing data and converts categorical values into a numerical format for further processing."
   ]
  },
  {
   "cell_type": "code",
   "execution_count": 16,
   "id": "8a986eed",
   "metadata": {},
   "outputs": [],
   "source": [
    "class FillMissing ():\n",
    "\n",
    "  def fill_categorical (self,  dataFrame):\n",
    "    for label, content in  dataFrame.items():\n",
    "      if pd.api.types.is_string_dtype(content):\n",
    "         dataFrame[label].fillna('missing', inplace=True)\n",
    "\n",
    "  def fill_numerical (self,  dataFrame):\n",
    "    for label, content in  dataFrame.items():\n",
    "     if pd.api.types.is_numeric_dtype(content):\n",
    "        dataFrame[label] = content.fillna(content.median())"
   ]
  },
  {
   "cell_type": "code",
   "execution_count": 17,
   "id": "d584dbae",
   "metadata": {},
   "outputs": [],
   "source": [
    "def nominal_encoder (dataFrame, label_list):\n",
    "\n",
    "  for label, content in  dataFrame.items():\n",
    "    if pd.api.types.is_string_dtype(content):\n",
    "       dataFrame[label] = content.astype('category').cat.as_ordered()\n",
    "       dataFrame[label] = pd.Categorical(content).codes + 3"
   ]
  },
  {
   "cell_type": "code",
   "execution_count": 18,
   "id": "2b2fb792",
   "metadata": {},
   "outputs": [],
   "source": [
    "fill_missing_value = FillMissing()\n",
    "fill_missing_value.fill_categorical(df)\n",
    "fill_missing_value.fill_numerical(df)"
   ]
  },
  {
   "cell_type": "code",
   "execution_count": 19,
   "id": "f737f313",
   "metadata": {},
   "outputs": [],
   "source": [
    "label_list = [feature for feature in df.columns if df[feature].dtype == 'O']\n",
    "nominal_encoder(df, label_list)"
   ]
  },
  {
   "cell_type": "markdown",
   "id": "1b795c18",
   "metadata": {},
   "source": [
    "# Feature Scaling"
   ]
  },
  {
   "cell_type": "markdown",
   "id": "bfdb5c8d",
   "metadata": {},
   "source": [
    "Feature scaling is applied to the dataset using the scale_feature function. The purpose of feature scaling is to standardize the range of independent variables or features of the dataset, ensuring that they all contribute equally to the model training process."
   ]
  },
  {
   "cell_type": "code",
   "execution_count": 20,
   "id": "1f5c4c88",
   "metadata": {},
   "outputs": [],
   "source": [
    "def scale_feature (X):\n",
    "  scaled = StandardScaler().fit_transform(X)\n",
    "  return scaled"
   ]
  },
  {
   "cell_type": "code",
   "execution_count": 21,
   "id": "e8699f7e",
   "metadata": {},
   "outputs": [],
   "source": [
    "df = df.drop(['SalesID', 'MachineID', 'ModelID', 'auctioneerID'], axis=1)\n",
    "\n",
    "X_train, y_train = df.drop('SalePrice', axis=1), df['SalePrice']\n",
    "X_train = scale_feature(X_train)"
   ]
  },
  {
   "cell_type": "code",
   "execution_count": 22,
   "id": "766c2e03",
   "metadata": {},
   "outputs": [
    {
     "name": "stdout",
     "output_type": "stream",
     "text": [
      "(401125, 52)\n"
     ]
    }
   ],
   "source": [
    "print(X_train.shape)"
   ]
  },
  {
   "cell_type": "markdown",
   "id": "62a1e59d",
   "metadata": {},
   "source": [
    "<u>Now let's do the same for our validation data</u>"
   ]
  },
  {
   "cell_type": "code",
   "execution_count": 23,
   "id": "a004728d",
   "metadata": {},
   "outputs": [],
   "source": [
    "X_valid = pd.read_csv(r\"C:\\Users\\aser\\Desktop\\LUMS Fall 2023-24\\Machine Learning (New)\\Project\\Valid.csv\", parse_dates=['saledate'])\n",
    "y_valid = pd.read_csv(r\"C:\\Users\\aser\\Desktop\\LUMS Fall 2023-24\\Machine Learning (New)\\Project\\ValidSolution.csv\")\n",
    "y_valid = y_valid['SalePrice']\n"
   ]
  },
  {
   "cell_type": "code",
   "execution_count": 24,
   "id": "446daa81",
   "metadata": {},
   "outputs": [
    {
     "name": "stdout",
     "output_type": "stream",
     "text": [
      "(11573, 52)\n"
     ]
    }
   ],
   "source": [
    "print(X_valid.shape)"
   ]
  },
  {
   "cell_type": "code",
   "execution_count": 25,
   "id": "60828e15",
   "metadata": {},
   "outputs": [],
   "source": [
    "X_valid =X_valid.drop(['SalesID', 'MachineID','ModelID','auctioneerID'], axis=1)\n",
    "date_preprocessing(X_valid)\n",
    "Ordinal_encoder(X_valid, ['ProductSize', 'UsageBand'])\n",
    "fill_missing_value.fill_categorical(X_valid)\n",
    "fill_missing_value.fill_numerical(X_valid)\n",
    "nominal_encoder(X_valid, label_list)"
   ]
  },
  {
   "cell_type": "code",
   "execution_count": 26,
   "id": "52c7a892",
   "metadata": {},
   "outputs": [],
   "source": [
    "X_valid = scale_feature(X_valid)"
   ]
  },
  {
   "cell_type": "markdown",
   "id": "48ea625c",
   "metadata": {},
   "source": [
    "<u>Checking for any NaN or Infinite Values in the Dataset</u>"
   ]
  },
  {
   "cell_type": "markdown",
   "id": "d7b9c9be",
   "metadata": {},
   "source": [
    "We are now going to make sure that there no NaN values present in the dataset at all."
   ]
  },
  {
   "cell_type": "code",
   "execution_count": 39,
   "id": "6ba160cd",
   "metadata": {
    "scrolled": true
   },
   "outputs": [
    {
     "name": "stdout",
     "output_type": "stream",
     "text": [
      "NaN values in X_train: False\n",
      "NaN values in X_valid: False\n",
      "NaN values in y_train: False\n",
      "NaN values in y_valid: False\n",
      "Infinite values in X_train: False\n",
      "Infinite values in X_valid: False\n",
      "Infinite values in y_train: False\n",
      "Infinite values in y_valid: False\n"
     ]
    }
   ],
   "source": [
    "print(\"NaN values in X_train:\", np.isnan(X_train).any())\n",
    "print(\"NaN values in X_valid:\", np.isnan(X_valid).any())\n",
    "print(\"NaN values in y_train:\", np.isnan(y_train).any())\n",
    "print(\"NaN values in y_valid:\", np.isnan(y_valid).any())\n",
    "\n",
    "print(\"Infinite values in X_train:\", np.isinf(X_train).any())\n",
    "print(\"Infinite values in X_valid:\", np.isinf(X_valid).any())\n",
    "print(\"Infinite values in y_train:\", np.isinf(y_train).any())\n",
    "print(\"Infinite values in y_valid:\", np.isinf(y_valid).any())"
   ]
  },
  {
   "cell_type": "markdown",
   "id": "122d98ea",
   "metadata": {},
   "source": [
    "# Neural Network"
   ]
  },
  {
   "cell_type": "markdown",
   "id": "0e8411f7",
   "metadata": {},
   "source": [
    "Now that we have processed our data and removed any missing values, we can start training it. We are going to make a Feed Forward Neural Network (FNN) using TensorFlow and Keras for a regression task. The neural network architecture consists of several dense layers with ReLU activation functions, batch normalization, and dropout layers to prevent overfitting. The model is compiled using the Adam optimizer, mean squared error (mse) loss function, and mse as the evaluation metric.\n",
    "\n",
    "Here's a general breakdown of the architecture:\n",
    "\n",
    "- Input layer: Flatten layer with an input shape of 52.\n",
    "- Hidden layers: Several dense layers with decreasing units (256, 128, 64, 32, 16), each followed by batch normalization and dropout for regularization.\n",
    "- Output layer: Dense layer with 1 unit, representing the regression outpu\n"
   ]
  },
  {
   "cell_type": "code",
   "execution_count": 40,
   "id": "66a8cf55",
   "metadata": {},
   "outputs": [],
   "source": [
    "import tensorflow as tf\n",
    "from tensorflow.keras.layers import Dense, Flatten,  BatchNormalization, Dropout\n",
    "from tensorflow import keras\n",
    "from tensorflow.keras.optimizers import Adam\n",
    "from tensorflow.keras.callbacks import EarlyStopping\n",
    "from tensorflow.keras.callbacks import ModelCheckpoint"
   ]
  },
  {
   "cell_type": "code",
   "execution_count": 72,
   "id": "31a619be",
   "metadata": {},
   "outputs": [],
   "source": [
    "FNN = tf.keras.models.Sequential([\n",
    "    Flatten(input_shape=[52]),\n",
    "    Dense(256, activation='relu', kernel_initializer='lecun_normal'),\n",
    "    Dropout(0.3),\n",
    "    Dense(128, activation='relu', kernel_initializer='lecun_normal'),\n",
    "    Dropout(0.3),\n",
    "    Dense(64, activation='relu', kernel_initializer='lecun_normal'),\n",
    "    Dropout(0.4),\n",
    "    Dense(32, activation='relu', kernel_initializer='lecun_normal'),\n",
    "    Dropout(0.5),\n",
    "    Dense(16, activation='relu', kernel_initializer='lecun_normal'),\n",
    "    Dropout(0.5),\n",
    "    Dense(1)\n",
    "])"
   ]
  },
  {
   "cell_type": "code",
   "execution_count": 73,
   "id": "781ac2ed",
   "metadata": {},
   "outputs": [],
   "source": [
    "physical_devices = tf.config.list_physical_devices('GPU')\n",
    "if len(physical_devices) > 0:\n",
    "    tf.config.experimental.set_memory_growth(physical_devices[0], enable=True)"
   ]
  },
  {
   "cell_type": "code",
   "execution_count": 75,
   "id": "368ce578",
   "metadata": {},
   "outputs": [],
   "source": [
    "FNN.compile(optimizer='adam', loss='mse', metrics=['mse'])\n",
    "early_stopping = EarlyStopping(patience=20, restore_best_weights=True)\n",
    "model_checkpoint = ModelCheckpoint('model.h5', save_best_only=True)"
   ]
  },
  {
   "cell_type": "code",
   "execution_count": 76,
   "id": "8433af24",
   "metadata": {},
   "outputs": [
    {
     "data": {
      "text/plain": [
       "(401125, 52)"
      ]
     },
     "execution_count": 76,
     "metadata": {},
     "output_type": "execute_result"
    }
   ],
   "source": [
    "X_train.shape"
   ]
  },
  {
   "cell_type": "code",
   "execution_count": 77,
   "id": "129c4394",
   "metadata": {},
   "outputs": [
    {
     "name": "stdout",
     "output_type": "stream",
     "text": [
      "Epoch 1/50\n",
      "40112/40112 [==============================] - 222s 5ms/step - loss: 431750528.0000 - mse: 431750528.0000 - val_loss: 344933536.0000 - val_mse: 344933536.0000\n",
      "Epoch 2/50\n",
      "    4/40112 [..............................] - ETA: 13:44 - loss: 360736672.0000 - mse: 360736672.0000"
     ]
    },
    {
     "name": "stderr",
     "output_type": "stream",
     "text": [
      "C:\\Users\\aser\\anaconda3\\lib\\site-packages\\keras\\src\\engine\\training.py:3103: UserWarning: You are saving your model as an HDF5 file via `model.save()`. This file format is considered legacy. We recommend using instead the native Keras format, e.g. `model.save('my_model.keras')`.\n",
      "  saving_api.save_model(\n"
     ]
    },
    {
     "name": "stdout",
     "output_type": "stream",
     "text": [
      "40112/40112 [==============================] - 215s 5ms/step - loss: 368288896.0000 - mse: 368288896.0000\n",
      "Epoch 3/50\n",
      "40112/40112 [==============================] - 215s 5ms/step - loss: 342228032.0000 - mse: 342228032.0000\n",
      "Epoch 4/50\n",
      "40112/40112 [==============================] - 215s 5ms/step - loss: 326052960.0000 - mse: 326052960.0000\n",
      "Epoch 5/50\n",
      "40112/40112 [==============================] - 216s 5ms/step - loss: 314712896.0000 - mse: 314712896.0000\n",
      "Epoch 6/50\n",
      "40112/40112 [==============================] - 216s 5ms/step - loss: 308692000.0000 - mse: 308692000.0000\n",
      "Epoch 7/50\n",
      "40112/40112 [==============================] - 215s 5ms/step - loss: 305498752.0000 - mse: 305498720.0000\n",
      "Epoch 8/50\n",
      "40112/40112 [==============================] - 217s 5ms/step - loss: 301780256.0000 - mse: 301780256.0000\n",
      "Epoch 9/50\n",
      "40112/40112 [==============================] - 216s 5ms/step - loss: 298312416.0000 - mse: 298312416.0000\n",
      "Epoch 10/50\n",
      "40112/40112 [==============================] - 217s 5ms/step - loss: 296056768.0000 - mse: 296056768.0000\n",
      "Epoch 11/50\n",
      "40112/40112 [==============================] - 217s 5ms/step - loss: 291842656.0000 - mse: 291842656.0000\n",
      "Epoch 12/50\n",
      "40112/40112 [==============================] - 217s 5ms/step - loss: 291968096.0000 - mse: 291968096.0000\n",
      "Epoch 13/50\n",
      "40112/40112 [==============================] - 217s 5ms/step - loss: 289275648.0000 - mse: 289275648.0000\n",
      "Epoch 14/50\n",
      "40112/40112 [==============================] - 217s 5ms/step - loss: 286684160.0000 - mse: 286684160.0000\n",
      "Epoch 15/50\n",
      "40112/40112 [==============================] - 216s 5ms/step - loss: 286059584.0000 - mse: 286059584.0000\n",
      "Epoch 16/50\n",
      "40112/40112 [==============================] - 216s 5ms/step - loss: 282506400.0000 - mse: 282506400.0000\n",
      "Epoch 17/50\n",
      "40112/40112 [==============================] - 217s 5ms/step - loss: 280779200.0000 - mse: 280779200.0000\n",
      "Epoch 18/50\n",
      "40112/40112 [==============================] - 216s 5ms/step - loss: 278894816.0000 - mse: 278894848.0000\n",
      "Epoch 19/50\n",
      "40112/40112 [==============================] - 216s 5ms/step - loss: 277140160.0000 - mse: 277140160.0000\n",
      "Epoch 20/50\n",
      "40112/40112 [==============================] - 217s 5ms/step - loss: 274673504.0000 - mse: 274673504.0000\n",
      "Epoch 21/50\n",
      "40112/40112 [==============================] - 217s 5ms/step - loss: 272644064.0000 - mse: 272644064.0000\n",
      "Epoch 22/50\n",
      "40112/40112 [==============================] - 217s 5ms/step - loss: 270216640.0000 - mse: 270216640.0000\n",
      "Epoch 23/50\n",
      "40112/40112 [==============================] - 216s 5ms/step - loss: 268941600.0000 - mse: 268941600.0000\n",
      "Epoch 24/50\n",
      "40112/40112 [==============================] - 216s 5ms/step - loss: 267522864.0000 - mse: 267522864.0000\n",
      "Epoch 25/50\n",
      "40112/40112 [==============================] - 214s 5ms/step - loss: 263401536.0000 - mse: 263401536.0000\n",
      "Epoch 26/50\n",
      "40112/40112 [==============================] - 0s 11us/step - loss: 259824032.0000 - mse: 259824032.0000\n"
     ]
    }
   ],
   "source": [
    "history = FNN.fit(\n",
    "    X_train, y_train,\n",
    "    validation_data=(X_valid, y_valid),\n",
    "    epochs=50,\n",
    "    batch_size=20,\n",
    "    callbacks=[early_stopping, model_checkpoint],\n",
    "    steps_per_epoch=len(X_train) // 10,\n",
    "    validation_steps=len(X_valid) // 10\n",
    ")"
   ]
  },
  {
   "cell_type": "code",
   "execution_count": 78,
   "id": "c98d869e",
   "metadata": {},
   "outputs": [
    {
     "data": {
      "image/png": "[encoded data removed]",
      "text/plain": [
       "<Figure size 640x480 with 1 Axes>"
      ]
     },
     "metadata": {},
     "output_type": "display_data"
    }
   ],
   "source": [
    "plt.plot(history.history['loss'], label='Training Loss')\n",
    "plt.plot(history.history['val_loss'], label='Validation Loss')\n",
    "plt.title(\"Results\")\n",
    "plt.legend();"
   ]
  },
  {
   "cell_type": "markdown",
   "id": "fcfddfd3",
   "metadata": {},
   "source": [
    "Now we are ready to make predictions"
   ]
  },
  {
   "cell_type": "code",
   "execution_count": 79,
   "id": "07a82411",
   "metadata": {},
   "outputs": [],
   "source": [
    "def evaluate_FNN (X_train, y_train, X_valid, y_valid):\n",
    "    y_train_pred = FNN.predict(X_train)\n",
    "    y_valid_pred = FNN.predict(X_valid)\n",
    "\n",
    "    \n",
    "    return {\n",
    "          'MSE_train': np.sqrt(mean_squared_error(y_train, y_train_pred)),\n",
    "          'MSLE_train':np.sqrt( mean_squared_log_error(y_train, y_train_pred)),\n",
    "          'MSE_valid': np.sqrt(mean_squared_error(y_valid, y_valid_pred)),\n",
    "          'MSLE_valid': np.sqrt(mean_squared_log_error(y_valid, y_valid_pred))\n",
    "    }"
   ]
  },
  {
   "cell_type": "code",
   "execution_count": 80,
   "id": "187dbd45",
   "metadata": {},
   "outputs": [
    {
     "name": "stdout",
     "output_type": "stream",
     "text": [
      "12536/12536 [==============================] - 41s 3ms/step\n",
      "362/362 [==============================] - 1s 3ms/step\n"
     ]
    },
    {
     "data": {
      "text/plain": [
       "{'MSE_train': 10978.835412180459,\n",
       " 'MSLE_train': 0.31205375626446213,\n",
       " 'MSE_valid': 13442.321950632051,\n",
       " 'MSLE_valid': 0.35683082017715423}"
      ]
     },
     "execution_count": 80,
     "metadata": {},
     "output_type": "execute_result"
    }
   ],
   "source": [
    "evaluate_FNN(X_train, y_train, X_valid, y_valid)"
   ]
  },
  {
   "cell_type": "markdown",
   "id": "f8da04c5",
   "metadata": {},
   "source": [
    "<b>R2 Score</b>"
   ]
  },
  {
   "cell_type": "code",
   "execution_count": 94,
   "id": "2c6a59a3",
   "metadata": {},
   "outputs": [
    {
     "name": "stdout",
     "output_type": "stream",
     "text": [
      "362/362 [==============================] - 1s 3ms/step\n",
      "R2 score on the validation set: 0.7369\n"
     ]
    }
   ],
   "source": [
    "from sklearn.metrics import r2_score\n",
    "\n",
    "y_valid_pred = FNN.predict(X_valid)\n",
    "\n",
    "r2_valid = r2_score(y_valid, y_valid_pred)\n",
    "\n",
    "print(f'R2 score on the validation set: {r2_valid:.4f}')"
   ]
  },
  {
   "cell_type": "markdown",
   "id": "ad248899",
   "metadata": {},
   "source": [
    "<b>Preparing Test Data</b>\n",
    "\n",
    "Now that our model has been trained, we are going to process our test data and make predictions."
   ]
  },
  {
   "cell_type": "code",
   "execution_count": 81,
   "id": "e934fea4",
   "metadata": {},
   "outputs": [],
   "source": [
    "testset =  pd.read_csv(r\"C:\\Users\\aser\\Desktop\\LUMS Fall 2023-24\\Machine Learning (New)\\Project\\Test.csv\", parse_dates=['saledate'])"
   ]
  },
  {
   "cell_type": "code",
   "execution_count": 82,
   "id": "f1ce7192",
   "metadata": {},
   "outputs": [],
   "source": [
    "X_test = testset.drop(['SalesID', 'MachineID','ModelID','auctioneerID'], axis=1)"
   ]
  },
  {
   "cell_type": "code",
   "execution_count": 83,
   "id": "ce7a63b6",
   "metadata": {},
   "outputs": [],
   "source": [
    "date_preprocessing(X_test)\n",
    "Ordinal_encoder(X_test, ['ProductSize', 'UsageBand'])\n",
    "fill_missing_value.fill_categorical(X_test)\n",
    "fill_missing_value.fill_numerical(X_test)\n",
    "nominal_encoder(X_test, label_list)"
   ]
  },
  {
   "cell_type": "code",
   "execution_count": 84,
   "id": "9f612d95",
   "metadata": {},
   "outputs": [],
   "source": [
    "X_test = scale_feature(X_test)"
   ]
  },
  {
   "cell_type": "code",
   "execution_count": 88,
   "id": "28069ec5",
   "metadata": {},
   "outputs": [
    {
     "name": "stdout",
     "output_type": "stream",
     "text": [
      "390/390 [==============================] - 1s 3ms/step\n"
     ]
    }
   ],
   "source": [
    "X_test_predict = FNN.predict(X_test)"
   ]
  },
  {
   "cell_type": "code",
   "execution_count": 89,
   "id": "d18b848f",
   "metadata": {},
   "outputs": [],
   "source": [
    "prediction = pd.DataFrame()\n",
    "prediction['SalesID'] = testset['SalesID']\n",
    "prediction['SalePrice']= X_test_predict"
   ]
  },
  {
   "cell_type": "code",
   "execution_count": 90,
   "id": "8f3c3ce7",
   "metadata": {},
   "outputs": [
    {
     "data": {
      "text/html": [
       "<div>\n",
       "<style scoped>\n",
       "    .dataframe tbody tr th:only-of-type {\n",
       "        vertical-align: middle;\n",
       "    }\n",
       "\n",
       "    .dataframe tbody tr th {\n",
       "        vertical-align: top;\n",
       "    }\n",
       "\n",
       "    .dataframe thead th {\n",
       "        text-align: right;\n",
       "    }\n",
       "</style>\n",
       "<table border=\"1\" class=\"dataframe\">\n",
       "  <thead>\n",
       "    <tr style=\"text-align: right;\">\n",
       "      <th></th>\n",
       "      <th>SalesID</th>\n",
       "      <th>SalePrice</th>\n",
       "    </tr>\n",
       "  </thead>\n",
       "  <tbody>\n",
       "    <tr>\n",
       "      <th>0</th>\n",
       "      <td>1227829</td>\n",
       "      <td>32929.863281</td>\n",
       "    </tr>\n",
       "    <tr>\n",
       "      <th>1</th>\n",
       "      <td>1227844</td>\n",
       "      <td>17415.957031</td>\n",
       "    </tr>\n",
       "    <tr>\n",
       "      <th>2</th>\n",
       "      <td>1227847</td>\n",
       "      <td>86546.593750</td>\n",
       "    </tr>\n",
       "    <tr>\n",
       "      <th>3</th>\n",
       "      <td>1227848</td>\n",
       "      <td>120422.937500</td>\n",
       "    </tr>\n",
       "    <tr>\n",
       "      <th>4</th>\n",
       "      <td>1227863</td>\n",
       "      <td>76974.117188</td>\n",
       "    </tr>\n",
       "    <tr>\n",
       "      <th>...</th>\n",
       "      <td>...</td>\n",
       "      <td>...</td>\n",
       "    </tr>\n",
       "    <tr>\n",
       "      <th>12452</th>\n",
       "      <td>6643171</td>\n",
       "      <td>47606.855469</td>\n",
       "    </tr>\n",
       "    <tr>\n",
       "      <th>12453</th>\n",
       "      <td>6643173</td>\n",
       "      <td>48933.449219</td>\n",
       "    </tr>\n",
       "    <tr>\n",
       "      <th>12454</th>\n",
       "      <td>6643184</td>\n",
       "      <td>11727.343750</td>\n",
       "    </tr>\n",
       "    <tr>\n",
       "      <th>12455</th>\n",
       "      <td>6643186</td>\n",
       "      <td>36983.511719</td>\n",
       "    </tr>\n",
       "    <tr>\n",
       "      <th>12456</th>\n",
       "      <td>6643196</td>\n",
       "      <td>40007.242188</td>\n",
       "    </tr>\n",
       "  </tbody>\n",
       "</table>\n",
       "<p>12457 rows × 2 columns</p>\n",
       "</div>"
      ],
      "text/plain": [
       "       SalesID      SalePrice\n",
       "0      1227829   32929.863281\n",
       "1      1227844   17415.957031\n",
       "2      1227847   86546.593750\n",
       "3      1227848  120422.937500\n",
       "4      1227863   76974.117188\n",
       "...        ...            ...\n",
       "12452  6643171   47606.855469\n",
       "12453  6643173   48933.449219\n",
       "12454  6643184   11727.343750\n",
       "12455  6643186   36983.511719\n",
       "12456  6643196   40007.242188\n",
       "\n",
       "[12457 rows x 2 columns]"
      ]
     },
     "execution_count": 90,
     "metadata": {},
     "output_type": "execute_result"
    }
   ],
   "source": [
    "prediction"
   ]
  },
  {
   "cell_type": "code",
   "execution_count": null,
   "id": "447cc29d",
   "metadata": {},
   "outputs": [],
   "source": []
  }
 ],
 "metadata": {
  "kernelspec": {
   "display_name": "Python 3 (ipykernel)",
   "language": "python",
   "name": "python3"
  },
  "language_info": {
   "codemirror_mode": {
    "name": "ipython",
    "version": 3
   },
   "file_extension": ".py",
   "mimetype": "text/x-python",
   "name": "python",
   "nbconvert_exporter": "python",
   "pygments_lexer": "ipython3",
   "version": "3.10.9"
  }
 },
 "nbformat": 4,
 "nbformat_minor": 5
}
